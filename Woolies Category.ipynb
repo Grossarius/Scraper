{
 "cells": [
  {
   "cell_type": "code",
   "execution_count": 2,
   "metadata": {},
   "outputs": [],
   "source": [
    "import pandas as pd\n",
    "import ast\n",
    "import json\n",
    "import openai\n",
    "import requests\n",
    "from tenacity import retry, wait_random_exponential, stop_after_attempt\n",
    "from termcolor import colored\n",
    "import os\n",
    "from dotenv import load_dotenv\n",
    "import re\n",
    "\n",
    "# Load environment variables from .env file\n",
    "load_dotenv()\n",
    "GPT_MODEL = \"gpt-3.5-turbo-0613\"\n",
    "openai.api_key = os.getenv(\"OPENAI_API_KEY\")"
   ]
  },
  {
   "attachments": {},
   "cell_type": "markdown",
   "metadata": {},
   "source": [
    "## Extract ingredients from the recipe"
   ]
  },
  {
   "cell_type": "code",
   "execution_count": 3,
   "metadata": {},
   "outputs": [],
   "source": [
    "# Helper functions\n",
    "def json_gpt(input: str):\n",
    "    completion = openai.ChatCompletion.create(\n",
    "        model=GPT_MODEL,\n",
    "        messages=[\n",
    "            {\"role\": \"system\", \"content\": \"Output only valid JSON\"},\n",
    "            {\"role\": \"user\", \"content\": input},\n",
    "        ],\n",
    "        temperature=0.5,\n",
    "    )\n",
    "\n",
    "    text = completion.choices[0].message.content\n",
    "    parsed = json.loads(text)\n",
    "\n",
    "    return parsed\n",
    "\n",
    "\n",
    "def embeddings(input: list[str]) -> list[list[str]]:\n",
    "    response = openai.Embedding.create(model=\"text-embedding-ada-002\", input=input)\n",
    "    return [data.embedding for data in response.data]"
   ]
  },
  {
   "cell_type": "code",
   "execution_count": 4,
   "metadata": {},
   "outputs": [
    {
     "name": "stdout",
     "output_type": "stream",
     "text": [
      "['peanut butter', 'sambal sauce', 'soy sauce', 'honey', 'sesame oil', 'lime juice', 'garlic', 'ginger', 'mushroom', 'cabbage', 'soba noodle', 'scallion', 'cilantro']\n"
     ]
    }
   ],
   "source": [
    "recipe = \"\"\"\n",
    "3 heaping tablespoons of peanut butter\n",
    "3 tablespoons of sambal sauce\n",
    "3 tablespoons of soy sauce\n",
    "I tablespoons of honey\n",
    "1 tablespoons of sesame oil\n",
    "The juice of 1 lime\n",
    "1 garlic, grated\n",
    "1 small knob of ginger, grated\n",
    " cup of water\n",
    "1 cup of mushrooms\n",
    "1/2 cup of cabbage leaves\n",
    "2 servings of soba noodles\n",
    "Chopped scallion\n",
    "Chopped cilantro\n",
    "\"\"\" \n",
    "\n",
    "# ChatGPT to help get similar items\n",
    "QUERIES_INPUT = f\"\"\"\n",
    "Get all the ingredients in the recipe, e.g. flour, egg, milk,... This is the recipe: {recipe}\n",
    "Remove any basic ingredient like water.\n",
    "Change plural ingredients to singular. For example, \"noodles\" to \"noodle\".\n",
    "Simplify the ingredients. For example, \"cabbage leaves to cabbage\".\n",
    "Format: {{\"Products\": [\"product_1\", \"product_2\",...]}}\n",
    "\"\"\"\n",
    "\n",
    "similar_products = json_gpt(QUERIES_INPUT)[\"Products\"]\n",
    "print(similar_products)"
   ]
  },
  {
   "attachments": {},
   "cell_type": "markdown",
   "metadata": {},
   "source": [
    "## Find the right general category"
   ]
  },
  {
   "cell_type": "code",
   "execution_count": 5,
   "metadata": {},
   "outputs": [],
   "source": [
    "general_categories = [\"bakery\", \"dairy-eggs-fridge\", \"drinks\", \"freezer\", \"fruit-veg\", \"health-wellnes health-foods\", \"lunch-box\", \"pantry\", \"poultry-meat-seafood\"]\n"
   ]
  },
  {
   "cell_type": "code",
   "execution_count": 6,
   "metadata": {},
   "outputs": [],
   "source": [
    "category_dict = {\n",
    "    \"bakery\": [\"bakery\", \"bread\", \"pastries\"],\n",
    "    \"dairy-eggs-fridge\": [\"dairy-eggs-fridge\", \"milk\", \"cheese\", \"yogurt\", \"cream\", \"dips\", \"ready to eat meals\", \"international food\", \"vegan\"],\n",
    "    \"drinks\": [\"drinks\", \"juices\", \"soda\", \"water\", \"tea\", \"coffee\", \"energy drinks\"],\n",
    "    \"freezer\": [\"freezer\", \"frozen meals\", \"ice cream\", \"frozen vegetables\", \"frozen fruit\"],\n",
    "    \"fruit-veg\": [\"fruit-veg\", \"fruits\", \"vegetables\", \"salads\", \"organic\"],\n",
    "    \"health-wellness health-foods\": [\"health-wellness health-foods\", \"vitamins\", \"superfoods\", \"protein bars\", \"health foods\", \"dried fruit, nuts, seeds\"],\n",
    "    \"lunch-box\": [\"lunch-box\",\"sandwiches\", \"snack packs\", \"fruit cups\"],\n",
    "    \"pantry\": [\"pantry\", \"canned goods\", \"breakfast and spreads\", \"herbs and spices\", \"condiments\", \"canned food\", \"pasta, rice, grains\", \"cooking sauces and recipe bases\", \"oil and vinegar\", \"international foods\"],\n",
    "    \"poultry-meat-seafood\": [\"poultry-meat-seafood\", \"poultry\", \"meat\", \"seafood\"]\n",
    "}"
   ]
  },
  {
   "cell_type": "code",
   "execution_count": 7,
   "metadata": {},
   "outputs": [],
   "source": [
    "category_list = [item for sublist in category_dict.values() for item in sublist]"
   ]
  },
  {
   "cell_type": "code",
   "execution_count": 8,
   "metadata": {},
   "outputs": [
    {
     "name": "stdout",
     "output_type": "stream",
     "text": [
      "{'pantry': ['peanut butter', 'sambal sauce', 'soy sauce', 'honey', 'sesame oil', 'lime juice', 'garlic', 'ginger'], 'vegetables': ['mushroom', 'cabbage', 'scallion', 'cilantro'], 'pasta, rice, grains': ['soba noodle']}\n"
     ]
    }
   ],
   "source": [
    "# ChatGPT to help get similar items\n",
    "QUERIES_INPUT = f\"\"\"\n",
    "Group all the items into the right categories. \n",
    "These are the categories: {category_list}.\n",
    "These are the items: {similar_products}.\n",
    "Format: {{\"category\": [\"item_1\", \"item_2\",...]}}\n",
    "\"\"\"\n",
    "\n",
    "similar_products = json_gpt(QUERIES_INPUT)\n",
    "print(similar_products)"
   ]
  },
  {
   "cell_type": "code",
   "execution_count": 30,
   "metadata": {},
   "outputs": [
    {
     "name": "stdout",
     "output_type": "stream",
     "text": [
      "pantry\n",
      "vegetables\n",
      "pasta, rice, grains\n",
      "{'pantry': ['peanut butter', 'sambal sauce', 'soy sauce', 'honey', 'sesame oil', 'lime juice', 'garlic', 'ginger', ['peanut butter', 'sambal sauce', 'soy sauce', 'honey', 'sesame oil', 'lime juice', 'garlic', 'ginger', [...]], 'soba noodle'], 'fruit-veg': ['mushroom', 'cabbage', 'scallion', 'cilantro']}\n"
     ]
    }
   ],
   "source": [
    "categorized_items = {}\n",
    "\n",
    "# Iterate over the items\n",
    "for key, value in similar_products.items():\n",
    "    print(key)\n",
    "    for category, keywords in category_dict.items():\n",
    "        # Check if any keyword in the category is present in the item\n",
    "        if key in keywords:\n",
    "            categorized_items[category] = categorized_items.get(category, []) + value\n",
    "            break\n",
    "\n",
    "print(categorized_items)"
   ]
  },
  {
   "cell_type": "code",
   "execution_count": 21,
   "metadata": {},
   "outputs": [
    {
     "data": {
      "text/plain": [
       "{'pantry': ['peanut butter',\n",
       "  'sambal sauce',\n",
       "  'soy sauce',\n",
       "  'honey',\n",
       "  'sesame oil',\n",
       "  'lime juice',\n",
       "  'garlic',\n",
       "  'ginger',\n",
       "  [...]],\n",
       " 'vegetables': ['mushroom', 'cabbage', 'scallion', 'cilantro'],\n",
       " 'pasta, rice, grains': ['soba noodle']}"
      ]
     },
     "execution_count": 21,
     "metadata": {},
     "output_type": "execute_result"
    }
   ],
   "source": [
    "similar_products"
   ]
  },
  {
   "attachments": {},
   "cell_type": "markdown",
   "metadata": {},
   "source": [
    "## Find the product"
   ]
  },
  {
   "cell_type": "code",
   "execution_count": 463,
   "metadata": {},
   "outputs": [],
   "source": [
    "df = pd.read_excel(\"Data\\Woolies Extracted\\Woolies pantry 1 info.xlsx\")\n",
    "df2 = pd.read_excel(\"Data\\Woolies Extracted\\Woolies pantry 2 info.xlsx\")\n",
    "df = pd.concat([df, df2], ignore_index=True)"
   ]
  },
  {
   "cell_type": "code",
   "execution_count": 464,
   "metadata": {},
   "outputs": [],
   "source": [
    "\n",
    "# QUERIES_INPUT = f\"\"\"\n",
    "# You have access to a list of Sap Categories: {df[\"Sap Category Name\"].unique()}\n",
    "# You also have access to a list of Sap Sub Categories: {df[\"Sap Sub Category Name\"].unique()}\n",
    "# Return all of the relevant categories within the list for the following item: {product}\n",
    "# ONLY return the categories within the list provided.\n",
    "# Format: {{\"Sap Category\": [\"category_1\", \"category_2\",...], \"Sap Sub Category\": [\"category_1\", \"category_2\",...]}}\n",
    "# \"\"\"\n",
    "\n",
    "# res_sap = json_gpt(QUERIES_INPUT)[\"Sap Category\"]\n",
    "# # res_sub_sap = json_gpt(QUERIES_INPUT)[\"Sap Sub Category\"]\n",
    "# # res_sap, res_sub_sap\n",
    "# json_gpt(QUERIES_INPUT)"
   ]
  },
  {
   "cell_type": "code",
   "execution_count": 465,
   "metadata": {},
   "outputs": [],
   "source": [
    "bad_list = [\n",
    "    \"Artificial flavor\",\n",
    "    \"Artificial flavour\",\n",
    "    \"Natural flavor\",\n",
    "    \"Natural flavour\",\n",
    "    \"Aspartame\",\n",
    "    \"BHT\",\n",
    "    \"Calcium disodium EDTA\",\n",
    "    \"Caramel color\",\n",
    "    \"Carrageenan\",\n",
    "    \"Corn starch\",\n",
    "    \"Corn syrup\",\n",
    "    \"Dextrose\",\n",
    "    \"Dough conditioners\",\n",
    "    \"Enriched flour\",\n",
    "    \"Bleached flour\",\n",
    "    \"Food color\",\n",
    "    \"Maltodextrin\",\n",
    "    \"Monoglycerides\",\n",
    "    \"Monosodium glutamate\",\n",
    "    \"Diglyceride\",\n",
    "    \"Natural flavor\",\n",
    "    \"Natural flavors\",\n",
    "    \"Polysorbate\",\n",
    "    \"Potassium sorbate\",\n",
    "    \"Sodium erythorbate\",\n",
    "    \"Sodium nitrate\",\n",
    "    \"Sodium nitrite\",\n",
    "    \"Sodium phosphate\",\n",
    "    \"Soy protein isolate\",\n",
    "    \"Splenda\",\n",
    "    \"Sugar\",\n",
    "    \"Syrup\",\n",
    "    \"Skim milk\",\n",
    "    \"Low fat\",\n",
    "    \"Reduced fat\",\n",
    "    \"Xylitol\",\n",
    "]\n"
   ]
  },
  {
   "cell_type": "code",
   "execution_count": 466,
   "metadata": {},
   "outputs": [
    {
     "name": "stdout",
     "output_type": "stream",
     "text": [
      "['udon', 'ramen', 'vermicelli', 'spaghetti', 'linguine', 'fettuccine', 'lasagna', 'macaroni']\n",
      "3\n"
     ]
    }
   ],
   "source": [
    "product = \"soba\"\n",
    "product_split = product.split()\n",
    "\n",
    "# ChatGPT to help get similar items\n",
    "QUERIES_INPUT = f\"\"\"\n",
    "Give me similar products related to this prompt but is not it: {product}\n",
    "ONLY if the items are similar, otherwise don't.\n",
    "Example: if the prompt is milk then similar products would be: cheese, butter, yoghurt, etc.\n",
    "Include variations of the product name, e.g. yogurt and yoghurt\n",
    "Format: {{\"Products\": [\"product_1\", \"product_2\",...]}}\n",
    "\"\"\"\n",
    "\n",
    "similar_products = json_gpt(QUERIES_INPUT)[\"Products\"]\n",
    "print(similar_products)\n",
    "\n",
    "# Filter out rows that do not contain the product name\n",
    "selected_rows = df.copy()  # Create a copy of the original dataframe\n",
    "for keyword in product_split:\n",
    "    selected_rows = selected_rows[selected_rows['Product Name'].str.contains(fr'\\b{re.escape(keyword)}\\b', case=False)]\n",
    "for item in similar_products:\n",
    "    selected_rows = selected_rows[~selected_rows['Product Name'].str.contains(fr'\\b{re.escape(item)}\\b', case=False)]\n",
    "# Filter out rows with no ingredients\n",
    "selected_rows = selected_rows[~selected_rows['Ingredients'].isna()]\n",
    "print(len(selected_rows))"
   ]
  },
  {
   "cell_type": "code",
   "execution_count": 467,
   "metadata": {},
   "outputs": [
    {
     "name": "stdout",
     "output_type": "stream",
     "text": [
      "[]\n"
     ]
    }
   ],
   "source": [
    "# Get the 'Product Name' and 'Ingredients' columns as Series\n",
    "product_names = selected_rows['Product Name']\n",
    "ingredients_series = selected_rows['Ingredients']\n",
    "cup_prices = selected_rows['Cup Price']\n",
    "price = selected_rows['Price']\n",
    "\n",
    "clean_products_df = pd.DataFrame(columns=['Product Name', 'Ingredients', 'Cup Price', 'Price'])\n",
    "all_clean = []\n",
    "\n",
    "# Iterate over each ingredient string along with its corresponding product name and cup price\n",
    "for product_name, ingredients, cup_price, price in zip(product_names, ingredients_series, cup_prices, price):\n",
    "    # Split the string at commas that are not between parentheses\n",
    "    ingredients_list = re.split(r',\\s*(?![^()]*\\))', ingredients)\n",
    "    clean = True\n",
    "    \n",
    "    # Iterate over each ingredient in the list\n",
    "    for ingredient in ingredients_list:\n",
    "        # Check if the ingredient is in the bad_list\n",
    "        for bad_item in bad_list:\n",
    "            # Normalize bad_list item to lowercase and split it into individual words\n",
    "            bad_item_lower = bad_item.lower()\n",
    "            bad_words = re.findall(r'\\b\\w+\\b', bad_item_lower)\n",
    "            \n",
    "            # Check if all the words from bad_list are present in the ingredient\n",
    "            all_words_present = all(word in ingredient.lower() for word in bad_words)\n",
    "            \n",
    "            if all_words_present:\n",
    "                clean = False\n",
    "\n",
    "    # Ingredients shouldn't be more than a certain amount\n",
    "    gum = 0\n",
    "    oil = 0\n",
    "    emulsifier = 0\n",
    "    # Count the occurrences of specific ingredients\n",
    "    gum = sum(ingredient.lower().count(\"gum\") for ingredient in ingredients_list)\n",
    "    oil = sum(ingredient.lower().count(\"oil\") for ingredient in ingredients_list)\n",
    "    emulsifier = sum(ingredient.lower().count(\"emulsifier\") for ingredient in ingredients_list)\n",
    "\n",
    "    if gum > 2 or oil > 2 or emulsifier > 2:\n",
    "        print(\"Too many\")\n",
    "        clean = False\n",
    "\n",
    "    # If the product is clean, add it to the list\n",
    "    if clean:\n",
    "        clean_products_df = pd.concat([clean_products_df, pd.DataFrame({\n",
    "            'Product Name': [product_name],\n",
    "            'Ingredients': [ingredients],\n",
    "            'Cup Price': [cup_price],\n",
    "            \"Price\": [price] \n",
    "        })])\n",
    "        \n",
    "print(all_clean)"
   ]
  },
  {
   "cell_type": "code",
   "execution_count": 468,
   "metadata": {},
   "outputs": [
    {
     "data": {
      "text/html": [
       "<div>\n",
       "<style scoped>\n",
       "    .dataframe tbody tr th:only-of-type {\n",
       "        vertical-align: middle;\n",
       "    }\n",
       "\n",
       "    .dataframe tbody tr th {\n",
       "        vertical-align: top;\n",
       "    }\n",
       "\n",
       "    .dataframe thead th {\n",
       "        text-align: right;\n",
       "    }\n",
       "</style>\n",
       "<table border=\"1\" class=\"dataframe\">\n",
       "  <thead>\n",
       "    <tr style=\"text-align: right;\">\n",
       "      <th></th>\n",
       "      <th>Product Name</th>\n",
       "      <th>Ingredients</th>\n",
       "      <th>Cup Price</th>\n",
       "      <th>Price</th>\n",
       "    </tr>\n",
       "  </thead>\n",
       "  <tbody>\n",
       "    <tr>\n",
       "      <th>0</th>\n",
       "      <td>Obento Japanese Noodles Soba</td>\n",
       "      <td>Wheat Flour (49%), Water, Buckwheat Flour (21 ...</td>\n",
       "      <td>0.86</td>\n",
       "      <td>1.55</td>\n",
       "    </tr>\n",
       "    <tr>\n",
       "      <th>0</th>\n",
       "      <td>Mr Chen's Soba Noodles</td>\n",
       "      <td>Buckwheat Flour 49%, Wheat Flour 38% Water, Salt</td>\n",
       "      <td>0.93</td>\n",
       "      <td>2.5</td>\n",
       "    </tr>\n",
       "    <tr>\n",
       "      <th>0</th>\n",
       "      <td>Hakubaku Organic Japanese Soba Buckwheat Noodl...</td>\n",
       "      <td>Organic Wheat Flour (69%), Organic Buckwheat F...</td>\n",
       "      <td>1.48</td>\n",
       "      <td>4.0</td>\n",
       "    </tr>\n",
       "  </tbody>\n",
       "</table>\n",
       "</div>"
      ],
      "text/plain": [
       "                                        Product Name  \\\n",
       "0                       Obento Japanese Noodles Soba   \n",
       "0                             Mr Chen's Soba Noodles   \n",
       "0  Hakubaku Organic Japanese Soba Buckwheat Noodl...   \n",
       "\n",
       "                                         Ingredients Cup Price Price  \n",
       "0  Wheat Flour (49%), Water, Buckwheat Flour (21 ...      0.86  1.55  \n",
       "0   Buckwheat Flour 49%, Wheat Flour 38% Water, Salt      0.93   2.5  \n",
       "0  Organic Wheat Flour (69%), Organic Buckwheat F...      1.48   4.0  "
      ]
     },
     "execution_count": 468,
     "metadata": {},
     "output_type": "execute_result"
    }
   ],
   "source": [
    "clean_products_df_sorted = clean_products_df.sort_values(by='Cup Price')\n",
    "clean_products_df_sorted"
   ]
  },
  {
   "cell_type": "code",
   "execution_count": 432,
   "metadata": {},
   "outputs": [],
   "source": [
    "# clean_products_df_sorted.to_excel('clean_products.xlsx', index=False)"
   ]
  },
  {
   "cell_type": "code",
   "execution_count": null,
   "metadata": {},
   "outputs": [],
   "source": []
  }
 ],
 "metadata": {
  "kernelspec": {
   "display_name": "base",
   "language": "python",
   "name": "python3"
  },
  "language_info": {
   "codemirror_mode": {
    "name": "ipython",
    "version": 3
   },
   "file_extension": ".py",
   "mimetype": "text/x-python",
   "name": "python",
   "nbconvert_exporter": "python",
   "pygments_lexer": "ipython3",
   "version": "3.9.12"
  },
  "orig_nbformat": 4
 },
 "nbformat": 4,
 "nbformat_minor": 2
}

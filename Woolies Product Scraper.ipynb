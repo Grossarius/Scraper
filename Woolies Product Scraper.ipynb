{
 "cells": [
  {
   "cell_type": "code",
   "execution_count": 1,
   "metadata": {},
   "outputs": [],
   "source": [
    "# Import the required libraries\n",
    "import csv\n",
    "import os\n",
    "import time\n",
    "from selenium import webdriver\n",
    "from selenium.webdriver.firefox.options import Options\n",
    "from bs4 import BeautifulSoup\n",
    "from selenium.webdriver.common.proxy import Proxy, ProxyType\n",
    "from urllib.parse import urlparse\n",
    "import re\n",
    "from selenium.webdriver.support.ui import WebDriverWait\n",
    "from selenium.webdriver.support import expected_conditions as EC\n",
    "from selenium.webdriver.common.by import By\n",
    "import pandas as pd\n",
    "from session import new_session\n",
    "import json\n",
    "import requests\n",
    "from json import JSONDecodeError"
   ]
  },
  {
   "cell_type": "code",
   "execution_count": 2,
   "metadata": {},
   "outputs": [],
   "source": [
    "# # Mimic customer action\n",
    "# def _woolies_session():\n",
    "#     session = new_session()\n",
    "#     session.get(url='https://www.woolworths.com.au')\n",
    "#     return session\n",
    "# _session = _woolies_session()"
   ]
  },
  {
   "cell_type": "code",
   "execution_count": 33,
   "metadata": {},
   "outputs": [],
   "source": [
    "# Finished: bakery, freezer, fruit-veg, poultry-meat-seafood, \"dairy-eggs-fridge\", \"deli-chilled-meals\", \"drinks\", \"health-wellness health-foods\", \"lunch-box\", \n",
    "all_cat = [\"pantry\"]"
   ]
  },
  {
   "cell_type": "code",
   "execution_count": 34,
   "metadata": {},
   "outputs": [],
   "source": [
    "# cat = \"\"\n",
    "# file_path = f\"Data\\Woolies ID\\Woolies {cat}.csv\"\n",
    "# df = pd.read_csv(file_path)\n",
    "# df.head()"
   ]
  },
  {
   "cell_type": "code",
   "execution_count": 1,
   "metadata": {},
   "outputs": [
    {
     "ename": "NameError",
     "evalue": "name 'webdriver' is not defined",
     "output_type": "error",
     "traceback": [
      "\u001b[1;31m---------------------------------------------------------------------------\u001b[0m",
      "\u001b[1;31mNameError\u001b[0m                                 Traceback (most recent call last)",
      "\u001b[1;32mc:\\Users\\nplon\\Documents\\Legacy\\Code\\Grocery\\Woolies Product Scraper.ipynb Cell 5\u001b[0m in \u001b[0;36m<cell line: 3>\u001b[1;34m()\u001b[0m\n\u001b[0;32m      <a href='vscode-notebook-cell:/c%3A/Users/nplon/Documents/Legacy/Code/Grocery/Woolies%20Product%20Scraper.ipynb#W4sZmlsZQ%3D%3D?line=0'>1</a>\u001b[0m all_data \u001b[39m=\u001b[39m []\n\u001b[0;32m      <a href='vscode-notebook-cell:/c%3A/Users/nplon/Documents/Legacy/Code/Grocery/Woolies%20Product%20Scraper.ipynb#W4sZmlsZQ%3D%3D?line=1'>2</a>\u001b[0m wait_time \u001b[39m=\u001b[39m \u001b[39m1\u001b[39m\n\u001b[1;32m----> <a href='vscode-notebook-cell:/c%3A/Users/nplon/Documents/Legacy/Code/Grocery/Woolies%20Product%20Scraper.ipynb#W4sZmlsZQ%3D%3D?line=2'>3</a>\u001b[0m firefox_option \u001b[39m=\u001b[39m webdriver\u001b[39m.\u001b[39mFirefoxOptions()\n\u001b[0;32m      <a href='vscode-notebook-cell:/c%3A/Users/nplon/Documents/Legacy/Code/Grocery/Woolies%20Product%20Scraper.ipynb#W4sZmlsZQ%3D%3D?line=3'>4</a>\u001b[0m \u001b[39m# Speed up\u001b[39;00m\n\u001b[0;32m      <a href='vscode-notebook-cell:/c%3A/Users/nplon/Documents/Legacy/Code/Grocery/Woolies%20Product%20Scraper.ipynb#W4sZmlsZQ%3D%3D?line=4'>5</a>\u001b[0m firefox_option\u001b[39m.\u001b[39madd_argument(\u001b[39m\"\u001b[39m\u001b[39m--headless\u001b[39m\u001b[39m\"\u001b[39m)\n",
      "\u001b[1;31mNameError\u001b[0m: name 'webdriver' is not defined"
     ]
    }
   ],
   "source": [
    "all_data = []\n",
    "wait_time = 1\n",
    "firefox_option = webdriver.FirefoxOptions()\n",
    "# Speed up\n",
    "firefox_option.add_argument(\"--headless\")\n",
    "driver = webdriver.Firefox(options=firefox_option)\n",
    "url = \"https://www.woolworths.com.au\"\n",
    "print(\"Here we go...\")\n",
    "driver.get(url)\n",
    "time.sleep(wait_time)\n",
    "\n",
    "for cat in all_cat:\n",
    "    file_path = f\"Data\\Woolies ID\\Woolies {cat}.csv\"\n",
    "    df = pd.read_csv(file_path)\n",
    "\n",
    "    all_id = df.iloc[888:, 0].tolist()\n",
    "    # all_id = [\"16436\"]\n",
    "    # url = \"https://www.woolworths.com.au/apis/ui/product/detail/{}\"\n",
    "    url = \"https://www.woolworths.com.au/apis/ui/product/detail/{}?isMobile=false&useVariant=true\"\n",
    "    filepath = f\"Data\\Woolies Item\\Woolies 888 {cat}.csv\"\n",
    "    if os.path.exists(filepath): \n",
    "        os.remove(filepath)\n",
    "    with open(filepath, \"a\", newline=\"\") as f:\n",
    "        writer = csv.writer(f)\n",
    "        for id in all_id:\n",
    "            full_url = url.format(id)\n",
    "            driver.get(full_url)\n",
    "            time.sleep(wait_time)\n",
    "            soup = BeautifulSoup(driver.page_source, features=\"html.parser\")\n",
    "            try:\n",
    "                info = json.loads(soup.find(\"body\").text)\n",
    "                # Turn the info into a dict\n",
    "                data = dict(info)\n",
    "            except JSONDecodeError as e:\n",
    "                try: \n",
    "                    driver.get(full_url)\n",
    "                    soup = BeautifulSoup(driver.page_source, features=\"html.parser\")\n",
    "                    info = json.loads(soup.find(\"body\").text)\n",
    "                    # Turn the info into a dict\n",
    "                    data = dict(info)\n",
    "                except JSONDecodeError as e:\n",
    "                    print(\"haiz\")\n",
    "            all_data.append(data)\n",
    "            print(\"------------------\")\n",
    "            print(\"Category: \", cat)\n",
    "            print(\"Len of list: \", len(all_id))\n",
    "            print(data)\n",
    "            print(len(all_data))\n",
    "            writer.writerow([id, data[\"Product\"][\"Name\"], data])"
   ]
  },
  {
   "cell_type": "code",
   "execution_count": 15,
   "metadata": {},
   "outputs": [],
   "source": [
    "# # Craw the product 5367\n",
    "# # product_url = \"https://www.woolworths.com.au/apis/ui/product/detail/700541?isMobile=false&useVariant=true\"\n",
    "# driver.get(full_url)\n",
    "# soup = BeautifulSoup(driver.page_source, features=\"html.parser\")\n",
    "# info = json.loads(soup.find(\"body\").text)\n",
    "# # Turn the info into a dict\n",
    "# data = dict(info)"
   ]
  },
  {
   "cell_type": "code",
   "execution_count": null,
   "metadata": {},
   "outputs": [],
   "source": []
  }
 ],
 "metadata": {
  "kernelspec": {
   "display_name": "base",
   "language": "python",
   "name": "python3"
  },
  "language_info": {
   "codemirror_mode": {
    "name": "ipython",
    "version": 3
   },
   "file_extension": ".py",
   "mimetype": "text/x-python",
   "name": "python",
   "nbconvert_exporter": "python",
   "pygments_lexer": "ipython3",
   "version": "3.9.12"
  },
  "orig_nbformat": 4
 },
 "nbformat": 4,
 "nbformat_minor": 2
}
